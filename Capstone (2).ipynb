{
 "cells": [
  {
   "cell_type": "code",
   "execution_count": 2,
   "id": "461251d1",
   "metadata": {},
   "outputs": [],
   "source": [
    "import pandas as pd # data processing \n",
    "import numpy as np # linear algebra \n",
    "\n",
    "\n",
    "# plotting libraries \n",
    "import matplotlib.pyplot as plt \n",
    "import seaborn as sns \n",
    "\n",
    "%matplotlib inline \n",
    "\n",
    "# ML libraries \n",
    "from sklearn.preprocessing import LabelEncoder \n",
    "from sklearn.model_selection import train_test_split\n",
    "from sklearn.metrics import confusion_matrix \n",
    "from sklearn.metrics import classification_report\n",
    "from sklearn.metrics import accuracy_score \n",
    "\n",
    "# ML models \n",
    "from sklearn.tree import DecisionTreeClassifier \n",
    "from sklearn.ensemble import RandomForestClassifier \n",
    "from sklearn.linear_model import LogisticRegression\n",
    "from sklearn import preprocessing \n",
    "\n",
    "# for UI \n",
    "import ipywidgets as widgets \n",
    "from IPython.display import display "
   ]
  },
  {
   "cell_type": "markdown",
   "id": "24363c6b",
   "metadata": {},
   "source": [
    "## Load CSV File "
   ]
  },
  {
   "cell_type": "code",
   "execution_count": 3,
   "id": "0dffb8d9",
   "metadata": {},
   "outputs": [],
   "source": [
    "# load mortgage data from a csv file for training\n",
    "training = 'Desktop/trainData.csv'\n",
    "train_df = pd.read_csv(training)"
   ]
  },
  {
   "cell_type": "code",
   "execution_count": 4,
   "id": "65f182ad",
   "metadata": {
    "scrolled": true
   },
   "outputs": [
    {
     "data": {
      "text/html": [
       "<div>\n",
       "<style scoped>\n",
       "    .dataframe tbody tr th:only-of-type {\n",
       "        vertical-align: middle;\n",
       "    }\n",
       "\n",
       "    .dataframe tbody tr th {\n",
       "        vertical-align: top;\n",
       "    }\n",
       "\n",
       "    .dataframe thead th {\n",
       "        text-align: right;\n",
       "    }\n",
       "</style>\n",
       "<table border=\"1\" class=\"dataframe\">\n",
       "  <thead>\n",
       "    <tr style=\"text-align: right;\">\n",
       "      <th></th>\n",
       "      <th>Loan_ID</th>\n",
       "      <th>Gender</th>\n",
       "      <th>Married</th>\n",
       "      <th>Dependents</th>\n",
       "      <th>Education</th>\n",
       "      <th>Self_Employed</th>\n",
       "      <th>ApplicantIncome</th>\n",
       "      <th>CoapplicantIncome</th>\n",
       "      <th>LoanAmount</th>\n",
       "      <th>Loan_Amount_Term</th>\n",
       "      <th>Credit_History</th>\n",
       "      <th>Property_Area</th>\n",
       "      <th>Loan_Status</th>\n",
       "    </tr>\n",
       "  </thead>\n",
       "  <tbody>\n",
       "    <tr>\n",
       "      <th>0</th>\n",
       "      <td>LP001002</td>\n",
       "      <td>Male</td>\n",
       "      <td>No</td>\n",
       "      <td>0.0</td>\n",
       "      <td>Graduate</td>\n",
       "      <td>No</td>\n",
       "      <td>5849</td>\n",
       "      <td>0.0</td>\n",
       "      <td>NaN</td>\n",
       "      <td>360.0</td>\n",
       "      <td>1.0</td>\n",
       "      <td>Urban</td>\n",
       "      <td>Y</td>\n",
       "    </tr>\n",
       "    <tr>\n",
       "      <th>1</th>\n",
       "      <td>LP001003</td>\n",
       "      <td>Male</td>\n",
       "      <td>Yes</td>\n",
       "      <td>1.0</td>\n",
       "      <td>Graduate</td>\n",
       "      <td>No</td>\n",
       "      <td>4583</td>\n",
       "      <td>1508.0</td>\n",
       "      <td>128.0</td>\n",
       "      <td>360.0</td>\n",
       "      <td>1.0</td>\n",
       "      <td>Rural</td>\n",
       "      <td>N</td>\n",
       "    </tr>\n",
       "    <tr>\n",
       "      <th>2</th>\n",
       "      <td>LP001005</td>\n",
       "      <td>Male</td>\n",
       "      <td>Yes</td>\n",
       "      <td>0.0</td>\n",
       "      <td>Graduate</td>\n",
       "      <td>Yes</td>\n",
       "      <td>3000</td>\n",
       "      <td>0.0</td>\n",
       "      <td>66.0</td>\n",
       "      <td>360.0</td>\n",
       "      <td>1.0</td>\n",
       "      <td>Urban</td>\n",
       "      <td>Y</td>\n",
       "    </tr>\n",
       "    <tr>\n",
       "      <th>3</th>\n",
       "      <td>LP001006</td>\n",
       "      <td>Male</td>\n",
       "      <td>Yes</td>\n",
       "      <td>0.0</td>\n",
       "      <td>Not Graduate</td>\n",
       "      <td>No</td>\n",
       "      <td>2583</td>\n",
       "      <td>2358.0</td>\n",
       "      <td>120.0</td>\n",
       "      <td>360.0</td>\n",
       "      <td>1.0</td>\n",
       "      <td>Urban</td>\n",
       "      <td>Y</td>\n",
       "    </tr>\n",
       "    <tr>\n",
       "      <th>4</th>\n",
       "      <td>LP001008</td>\n",
       "      <td>Male</td>\n",
       "      <td>No</td>\n",
       "      <td>0.0</td>\n",
       "      <td>Graduate</td>\n",
       "      <td>No</td>\n",
       "      <td>6000</td>\n",
       "      <td>0.0</td>\n",
       "      <td>141.0</td>\n",
       "      <td>360.0</td>\n",
       "      <td>1.0</td>\n",
       "      <td>Urban</td>\n",
       "      <td>Y</td>\n",
       "    </tr>\n",
       "  </tbody>\n",
       "</table>\n",
       "</div>"
      ],
      "text/plain": [
       "    Loan_ID Gender Married  Dependents     Education Self_Employed  \\\n",
       "0  LP001002   Male      No         0.0      Graduate            No   \n",
       "1  LP001003   Male     Yes         1.0      Graduate            No   \n",
       "2  LP001005   Male     Yes         0.0      Graduate           Yes   \n",
       "3  LP001006   Male     Yes         0.0  Not Graduate            No   \n",
       "4  LP001008   Male      No         0.0      Graduate            No   \n",
       "\n",
       "   ApplicantIncome  CoapplicantIncome  LoanAmount  Loan_Amount_Term  \\\n",
       "0             5849                0.0         NaN             360.0   \n",
       "1             4583             1508.0       128.0             360.0   \n",
       "2             3000                0.0        66.0             360.0   \n",
       "3             2583             2358.0       120.0             360.0   \n",
       "4             6000                0.0       141.0             360.0   \n",
       "\n",
       "   Credit_History Property_Area Loan_Status  \n",
       "0             1.0         Urban           Y  \n",
       "1             1.0         Rural           N  \n",
       "2             1.0         Urban           Y  \n",
       "3             1.0         Urban           Y  \n",
       "4             1.0         Urban           Y  "
      ]
     },
     "execution_count": 4,
     "metadata": {},
     "output_type": "execute_result"
    }
   ],
   "source": [
    "train_df.head()"
   ]
  },
  {
   "cell_type": "code",
   "execution_count": 5,
   "id": "8f2627fb",
   "metadata": {},
   "outputs": [
    {
     "name": "stdout",
     "output_type": "stream",
     "text": [
      "<class 'pandas.core.frame.DataFrame'>\n",
      "RangeIndex: 999 entries, 0 to 998\n",
      "Data columns (total 13 columns):\n",
      " #   Column             Non-Null Count  Dtype  \n",
      "---  ------             --------------  -----  \n",
      " 0   Loan_ID            999 non-null    object \n",
      " 1   Gender             980 non-null    object \n",
      " 2   Married            994 non-null    object \n",
      " 3   Dependents         973 non-null    float64\n",
      " 4   Education          999 non-null    object \n",
      " 5   Self_Employed      946 non-null    object \n",
      " 6   ApplicantIncome    999 non-null    int64  \n",
      " 7   CoapplicantIncome  999 non-null    float64\n",
      " 8   LoanAmount         963 non-null    float64\n",
      " 9   Loan_Amount_Term   973 non-null    float64\n",
      " 10  Credit_History     919 non-null    float64\n",
      " 11  Property_Area      999 non-null    object \n",
      " 12  Loan_Status        999 non-null    object \n",
      "dtypes: float64(5), int64(1), object(7)\n",
      "memory usage: 101.6+ KB\n"
     ]
    }
   ],
   "source": [
    "train_df.info()\n"
   ]
  },
  {
   "cell_type": "markdown",
   "id": "36378036",
   "metadata": {},
   "source": [
    "# Cleaning Data "
   ]
  },
  {
   "cell_type": "code",
   "execution_count": 6,
   "id": "76e082c8",
   "metadata": {},
   "outputs": [],
   "source": [
    "del train_df['Loan_ID']\n"
   ]
  },
  {
   "cell_type": "code",
   "execution_count": 7,
   "id": "ac074b18",
   "metadata": {},
   "outputs": [],
   "source": [
    "# variables to start cleaning data for test_df\n",
    "gender_missing = train_df['Gender'].isnull()\n",
    "married_missing = train_df['Married'].isnull()\n",
    "dependents_missing = train_df['Dependents'].isnull()\n",
    "employed_missing = train_df['Self_Employed'].isnull()\n",
    "loan_missing = train_df['LoanAmount'].isnull()\n",
    "term_missing = train_df['Loan_Amount_Term'].isnull()\n",
    "credit_missing = train_df['Credit_History'].isnull()\n",
    "\n"
   ]
  },
  {
   "cell_type": "code",
   "execution_count": 8,
   "id": "08695408",
   "metadata": {},
   "outputs": [
    {
     "data": {
      "text/plain": [
       "Male      798\n",
       "Female    182\n",
       "Name: Gender, dtype: int64"
      ]
     },
     "execution_count": 8,
     "metadata": {},
     "output_type": "execute_result"
    }
   ],
   "source": [
    "# Check value counts of each column \n",
    "train_df['Gender'].value_counts()"
   ]
  },
  {
   "cell_type": "code",
   "execution_count": 9,
   "id": "767ec9cc",
   "metadata": {},
   "outputs": [
    {
     "data": {
      "text/plain": [
       "Yes    648\n",
       "No     346\n",
       "Name: Married, dtype: int64"
      ]
     },
     "execution_count": 9,
     "metadata": {},
     "output_type": "execute_result"
    }
   ],
   "source": [
    "train_df['Married'].value_counts()"
   ]
  },
  {
   "cell_type": "code",
   "execution_count": 10,
   "id": "8174dacb",
   "metadata": {},
   "outputs": [
    {
     "data": {
      "text/plain": [
       "0.0    567\n",
       "1.0    164\n",
       "2.0    159\n",
       "3.0     83\n",
       "Name: Dependents, dtype: int64"
      ]
     },
     "execution_count": 10,
     "metadata": {},
     "output_type": "execute_result"
    }
   ],
   "source": [
    "train_df['Dependents'].value_counts()"
   ]
  },
  {
   "cell_type": "code",
   "execution_count": 11,
   "id": "ee17220f",
   "metadata": {},
   "outputs": [
    {
     "data": {
      "text/plain": [
       "No     815\n",
       "Yes    131\n",
       "Name: Self_Employed, dtype: int64"
      ]
     },
     "execution_count": 11,
     "metadata": {},
     "output_type": "execute_result"
    }
   ],
   "source": [
    "train_df['Self_Employed'].value_counts()"
   ]
  },
  {
   "cell_type": "code",
   "execution_count": 12,
   "id": "f82e6c83",
   "metadata": {},
   "outputs": [
    {
     "data": {
      "text/plain": [
       "120.0    38\n",
       "110.0    23\n",
       "100.0    23\n",
       "187.0    19\n",
       "160.0    19\n",
       "         ..\n",
       "246.0     1\n",
       "500.0     1\n",
       "119.0     1\n",
       "209.0     1\n",
       "253.0     1\n",
       "Name: LoanAmount, Length: 203, dtype: int64"
      ]
     },
     "execution_count": 12,
     "metadata": {},
     "output_type": "execute_result"
    }
   ],
   "source": [
    "train_df['LoanAmount'].value_counts()"
   ]
  },
  {
   "cell_type": "code",
   "execution_count": 13,
   "id": "6f68dcb7",
   "metadata": {},
   "outputs": [
    {
     "data": {
      "text/plain": [
       "360.0    830\n",
       "180.0     71\n",
       "480.0     27\n",
       "300.0     20\n",
       "120.0      6\n",
       "240.0      6\n",
       "84.0       5\n",
       "60.0       4\n",
       "36.0       3\n",
       "12.0       1\n",
       "Name: Loan_Amount_Term, dtype: int64"
      ]
     },
     "execution_count": 13,
     "metadata": {},
     "output_type": "execute_result"
    }
   ],
   "source": [
    "train_df['Loan_Amount_Term'].value_counts()"
   ]
  },
  {
   "cell_type": "code",
   "execution_count": 14,
   "id": "a2d9f977",
   "metadata": {},
   "outputs": [
    {
     "data": {
      "text/plain": [
       "1.0    781\n",
       "0.0    138\n",
       "Name: Credit_History, dtype: int64"
      ]
     },
     "execution_count": 14,
     "metadata": {},
     "output_type": "execute_result"
    }
   ],
   "source": [
    "train_df['Credit_History'].value_counts()"
   ]
  },
  {
   "cell_type": "code",
   "execution_count": 15,
   "id": "72e291d9",
   "metadata": {},
   "outputs": [],
   "source": [
    "# Fill in missing values with the max amount of each value, except loan amount \n",
    "train_df.loc[gender_missing, 'Gender'] = 'Male' # Male is prominent \n",
    "train_df.loc[married_missing, 'Married'] = 'Yes' # Married is prominent \n",
    "train_df.loc[dependents_missing, 'Dependents'] = 0.0 # 0 dependents is prominent \n",
    "train_df.loc[employed_missing, 'Self_Employed'] = 'No' # Most people are employed with someoine else \n",
    "train_df.loc[term_missing, 'Loan_Amount_Term'] = 360 # Most terms are 360 months \n",
    "train_df.loc[credit_missing, 'Credit_History'] = 1.0 # most common value "
   ]
  },
  {
   "cell_type": "code",
   "execution_count": 16,
   "id": "eae6d669",
   "metadata": {},
   "outputs": [
    {
     "data": {
      "text/plain": [
       "141001.0"
      ]
     },
     "execution_count": 16,
     "metadata": {},
     "output_type": "execute_result"
    }
   ],
   "source": [
    "# Find average of loan amounts based off current information \n",
    "train_df['LoanAmount'].sum()"
   ]
  },
  {
   "cell_type": "code",
   "execution_count": 17,
   "id": "f5a62e49",
   "metadata": {},
   "outputs": [
    {
     "data": {
      "text/plain": [
       "36"
      ]
     },
     "execution_count": 17,
     "metadata": {},
     "output_type": "execute_result"
    }
   ],
   "source": [
    "train_df['LoanAmount'].isnull().sum()"
   ]
  },
  {
   "cell_type": "code",
   "execution_count": 18,
   "id": "bc6512fb",
   "metadata": {},
   "outputs": [],
   "source": [
    "train_to_divide = 999 - 36"
   ]
  },
  {
   "cell_type": "code",
   "execution_count": 19,
   "id": "b46f5b9f",
   "metadata": {
    "scrolled": true
   },
   "outputs": [
    {
     "data": {
      "text/plain": [
       "146.4184839044652"
      ]
     },
     "execution_count": 19,
     "metadata": {},
     "output_type": "execute_result"
    }
   ],
   "source": [
    "average = 141001.0 / train_to_divide\n",
    "average"
   ]
  },
  {
   "cell_type": "code",
   "execution_count": 20,
   "id": "825723a3",
   "metadata": {
    "scrolled": true
   },
   "outputs": [],
   "source": [
    "# fill in missing value with 146.0\n",
    "train_df.loc[loan_missing, 'LoanAmount'] = 146.0"
   ]
  },
  {
   "cell_type": "code",
   "execution_count": 21,
   "id": "c0060128",
   "metadata": {},
   "outputs": [
    {
     "name": "stdout",
     "output_type": "stream",
     "text": [
      "<class 'pandas.core.frame.DataFrame'>\n",
      "RangeIndex: 999 entries, 0 to 998\n",
      "Data columns (total 12 columns):\n",
      " #   Column             Non-Null Count  Dtype  \n",
      "---  ------             --------------  -----  \n",
      " 0   Gender             999 non-null    object \n",
      " 1   Married            999 non-null    object \n",
      " 2   Dependents         999 non-null    float64\n",
      " 3   Education          999 non-null    object \n",
      " 4   Self_Employed      999 non-null    object \n",
      " 5   ApplicantIncome    999 non-null    int64  \n",
      " 6   CoapplicantIncome  999 non-null    float64\n",
      " 7   LoanAmount         999 non-null    float64\n",
      " 8   Loan_Amount_Term   999 non-null    float64\n",
      " 9   Credit_History     999 non-null    float64\n",
      " 10  Property_Area      999 non-null    object \n",
      " 11  Loan_Status        999 non-null    object \n",
      "dtypes: float64(5), int64(1), object(6)\n",
      "memory usage: 93.8+ KB\n"
     ]
    }
   ],
   "source": [
    "# no null values \n",
    "train_df.info()\n"
   ]
  },
  {
   "cell_type": "code",
   "execution_count": 22,
   "id": "641df883",
   "metadata": {},
   "outputs": [],
   "source": [
    "# Changing the column names for cleaner look for graphs below \n",
    "train_df = train_df.rename(columns = {'ApplicantIncome' : 'Applicant_Income',\n",
    "                         'CoapplicantIncome' : 'Co_Applicant_Income',\n",
    "                         'LoanAmount': 'Loan_Amount'})"
   ]
  },
  {
   "cell_type": "code",
   "execution_count": 23,
   "id": "3dde13fa",
   "metadata": {
    "scrolled": true
   },
   "outputs": [
    {
     "name": "stdout",
     "output_type": "stream",
     "text": [
      "<class 'pandas.core.frame.DataFrame'>\n",
      "RangeIndex: 999 entries, 0 to 998\n",
      "Data columns (total 12 columns):\n",
      " #   Column               Non-Null Count  Dtype  \n",
      "---  ------               --------------  -----  \n",
      " 0   Gender               999 non-null    object \n",
      " 1   Married              999 non-null    object \n",
      " 2   Dependents           999 non-null    float64\n",
      " 3   Education            999 non-null    object \n",
      " 4   Self_Employed        999 non-null    object \n",
      " 5   Applicant_Income     999 non-null    int64  \n",
      " 6   Co_Applicant_Income  999 non-null    float64\n",
      " 7   Loan_Amount          999 non-null    float64\n",
      " 8   Loan_Amount_Term     999 non-null    float64\n",
      " 9   Credit_History       999 non-null    float64\n",
      " 10  Property_Area        999 non-null    object \n",
      " 11  Loan_Status          999 non-null    object \n",
      "dtypes: float64(5), int64(1), object(6)\n",
      "memory usage: 93.8+ KB\n"
     ]
    }
   ],
   "source": [
    "train_df.info()"
   ]
  },
  {
   "cell_type": "markdown",
   "id": "8beff0ed",
   "metadata": {},
   "source": [
    "## Dashboard"
   ]
  },
  {
   "cell_type": "code",
   "execution_count": 24,
   "id": "1a4fa9a7",
   "metadata": {},
   "outputs": [
    {
     "data": {
      "application/vnd.jupyter.widget-view+json": {
       "model_id": "4d901867ff48475f8d371cb320b395aa",
       "version_major": 2,
       "version_minor": 0
      },
      "text/plain": [
       "interactive(children=(Dropdown(description='hue', options=('Gender', 'Married', 'Dependents', 'Education', 'Se…"
      ]
     },
     "metadata": {},
     "output_type": "display_data"
    }
   ],
   "source": [
    "%matplotlib inline \n",
    "import seaborn as sns\n",
    "\n",
    "from ipywidgets import interact\n",
    "@interact(hue=['Gender', 'Married', 'Dependents', 'Education', 'Self_Employed', 'Applicant_Income', 'Co_Applicant_Income',\n",
    "              'Loan_Amount', 'Loan_Amount_Term', 'Credit_History', 'Property_Area'])\n",
    "def plot(hue):\n",
    "    _ = sns.pairplot(train_df, hue=hue)"
   ]
  },
  {
   "cell_type": "markdown",
   "id": "4190cac9",
   "metadata": {},
   "source": [
    "## Graph Data "
   ]
  },
  {
   "cell_type": "code",
   "execution_count": 252,
   "id": "8f74dcfd",
   "metadata": {},
   "outputs": [],
   "source": [
    "# separate numerical and categorial data \n",
    "\n",
    "numbers = train_df.select_dtypes('number').columns.to_list()\n",
    "categories = train_df.select_dtypes('object').columns.to_list()\n",
    "\n",
    "# numeric df \n",
    "loan_n = train_df[numbers]\n",
    "\n",
    "#categoric df \n",
    "loan_c = train_df[categories]"
   ]
  },
  {
   "cell_type": "code",
   "execution_count": 253,
   "id": "777726f4",
   "metadata": {
    "scrolled": true
   },
   "outputs": [
    {
     "data": {
      "image/png": "[encoded data removed]",
      "text/plain": [
       "<Figure size 576x720 with 1 Axes>"
      ]
     },
     "metadata": {
      "needs_background": "light"
     },
     "output_type": "display_data"
    }
   ],
   "source": [
    "# graphs the amount of yes and no approval \n",
    "total = float(len(train_df[categories[-1]]))\n",
    "plt.figure(figsize=(8,10))\n",
    "sns.set(style='whitegrid')\n",
    "ax = sns.countplot(x = train_df['Loan_Status'])\n",
    "\n",
    "\n",
    "for p in ax.patches:\n",
    "    height = p.get_height()\n",
    "    ax.text(p.get_x() + p.get_width()/2., height + 3, '{:1.2f}'.format(height/total), ha='center')\n",
    "plt.show() "
   ]
  },
  {
   "cell_type": "code",
   "execution_count": 254,
   "id": "c565eed2",
   "metadata": {
    "scrolled": true
   },
   "outputs": [
    {
     "data": {
      "image/png": "[encoded data removed]",
      "text/plain": [
       "<Figure size 432x288 with 1 Axes>"
      ]
     },
     "metadata": {},
     "output_type": "display_data"
    },
    {
     "data": {
      "image/png": "[encoded data removed]",
      "text/plain": [
       "<Figure size 432x288 with 1 Axes>"
      ]
     },
     "metadata": {},
     "output_type": "display_data"
    },
    {
     "data": {
      "image/png": "[encoded data removed]",
      "text/plain": [
       "<Figure size 432x288 with 1 Axes>"
      ]
     },
     "metadata": {},
     "output_type": "display_data"
    },
    {
     "data": {
      "image/png": "[encoded data removed]",
      "text/plain": [
       "<Figure size 432x288 with 1 Axes>"
      ]
     },
     "metadata": {},
     "output_type": "display_data"
    },
    {
     "data": {
      "image/png": "[encoded data removed]",
      "text/plain": [
       "<Figure size 432x288 with 1 Axes>"
      ]
     },
     "metadata": {},
     "output_type": "display_data"
    },
    {
     "data": {
      "image/png": "[encoded data removed]",
      "text/plain": [
       "<Figure size 432x288 with 1 Axes>"
      ]
     },
     "metadata": {},
     "output_type": "display_data"
    }
   ],
   "source": [
    "# graphs all information for numerical data \n",
    "for i in loan_n:\n",
    "    plt.hist(loan_n[i])\n",
    "    plt.title(i)\n",
    "    plt.show()"
   ]
  },
  {
   "cell_type": "code",
   "execution_count": 255,
   "id": "2c18529b",
   "metadata": {
    "scrolled": false
   },
   "outputs": [
    {
     "data": {
      "image/png": "[encoded data removed]",
      "text/plain": [
       "<Figure size 1080x720 with 1 Axes>"
      ]
     },
     "metadata": {},
     "output_type": "display_data"
    },
    {
     "data": {
      "image/png": "[encoded data removed]",
      "text/plain": [
       "<Figure size 1080x720 with 1 Axes>"
      ]
     },
     "metadata": {},
     "output_type": "display_data"
    },
    {
     "data": {
      "image/png": "[encoded data removed]",
      "text/plain": [
       "<Figure size 1080x720 with 1 Axes>"
      ]
     },
     "metadata": {},
     "output_type": "display_data"
    },
    {
     "data": {
      "image/png": "[encoded data removed]",
      "text/plain": [
       "<Figure size 1080x720 with 1 Axes>"
      ]
     },
     "metadata": {},
     "output_type": "display_data"
    },
    {
     "data": {
      "image/png": "[encoded data removed]",
      "text/plain": [
       "<Figure size 1080x720 with 1 Axes>"
      ]
     },
     "metadata": {},
     "output_type": "display_data"
    }
   ],
   "source": [
    "# graphs  the number in each category and if the loan was approved or denied. \n",
    "for i in categories[:-1]:\n",
    "    plt.figure(figsize=(15,10))\n",
    "    plt.subplot(2, 3, 1)\n",
    "    sns.countplot(x = i, hue='Loan_Status', data=train_df, palette='rocket_r')"
   ]
  },
  {
   "cell_type": "code",
   "execution_count": 256,
   "id": "31e4e2d0",
   "metadata": {},
   "outputs": [],
   "source": [
    "# converting all categories to numeric for heatmap \n",
    "\n",
    "to_numeric = {'Male': 1, 'Female': 2,\n",
    "'Yes': 1, 'No': 2,\n",
    "'Graduate': 1, 'Not Graduate': 2,\n",
    "'Urban': 3, 'Semiurban': 2,'Rural': 1,\n",
    "'Y': 1, 'N': 0,\n",
    "'3+': 3}\n",
    "\n",
    "# new values to database\n",
    "train_df = train_df.applymap(lambda lable: to_numeric.get(lable) if lable in to_numeric else lable)"
   ]
  },
  {
   "cell_type": "code",
   "execution_count": 257,
   "id": "367c1308",
   "metadata": {},
   "outputs": [
    {
     "name": "stdout",
     "output_type": "stream",
     "text": [
      "<class 'pandas.core.frame.DataFrame'>\n",
      "RangeIndex: 999 entries, 0 to 998\n",
      "Data columns (total 12 columns):\n",
      " #   Column               Non-Null Count  Dtype  \n",
      "---  ------               --------------  -----  \n",
      " 0   Gender               999 non-null    int64  \n",
      " 1   Married              999 non-null    int64  \n",
      " 2   Education            999 non-null    int64  \n",
      " 3   Self_Employed        999 non-null    int64  \n",
      " 4   Applicant_Income     999 non-null    int64  \n",
      " 5   Co_Applicant_Income  999 non-null    float64\n",
      " 6   Loan_Amount          999 non-null    float64\n",
      " 7   Loan_Amount_Term     999 non-null    float64\n",
      " 8   Credit_History       999 non-null    float64\n",
      " 9   Property_Area        999 non-null    int64  \n",
      " 10  Loan_Status          999 non-null    int64  \n",
      " 11  Dependents           999 non-null    float64\n",
      "dtypes: float64(5), int64(7)\n",
      "memory usage: 93.8 KB\n"
     ]
    }
   ],
   "source": [
    "# convert dependents column\n",
    "Dependents_ = pd.to_numeric(train_df.Dependents)\n",
    "\n",
    "#drop prior \n",
    "train_df.drop(['Dependents'], axis = 1, inplace = True)\n",
    "\n",
    "# concat new dependents into database \n",
    "train_df = pd.concat([train_df, Dependents_], axis = 1)\n",
    "\n",
    "# checking for validation \n",
    "train_df.info()\n"
   ]
  },
  {
   "cell_type": "code",
   "execution_count": 258,
   "id": "5513a34b",
   "metadata": {},
   "outputs": [
    {
     "data": {
      "text/plain": [
       "<AxesSubplot:>"
      ]
     },
     "execution_count": 258,
     "metadata": {},
     "output_type": "execute_result"
    },
    {
     "data": {
      "image/png": "[encoded data removed]",
      "text/plain": [
       "<Figure size 432x288 with 2 Axes>"
      ]
     },
     "metadata": {},
     "output_type": "display_data"
    }
   ],
   "source": [
    "# plot heatmap \n",
    "sns.heatmap(train_df.corr(), cmap='YlGnBu')\n"
   ]
  },
  {
   "cell_type": "code",
   "execution_count": 260,
   "id": "0ab996a4",
   "metadata": {
    "scrolled": true
   },
   "outputs": [
    {
     "data": {
      "text/html": [
       "<style type=\"text/css\">\n",
       "#T_f6ddb_row0_col0, #T_f6ddb_row1_col1, #T_f6ddb_row2_col2, #T_f6ddb_row3_col3, #T_f6ddb_row4_col4, #T_f6ddb_row5_col5, #T_f6ddb_row6_col6, #T_f6ddb_row7_col7, #T_f6ddb_row8_col8, #T_f6ddb_row9_col9, #T_f6ddb_row10_col10, #T_f6ddb_row11_col11 {\n",
       "  background-color: #081d58;\n",
       "  color: #f1f1f1;\n",
       "}\n",
       "#T_f6ddb_row0_col1 {\n",
       "  background-color: #39adc3;\n",
       "  color: #f1f1f1;\n",
       "}\n",
       "#T_f6ddb_row0_col2, #T_f6ddb_row0_col8, #T_f6ddb_row0_col10, #T_f6ddb_row4_col9, #T_f6ddb_row7_col8 {\n",
       "  background-color: #f5fbc4;\n",
       "  color: #000000;\n",
       "}\n",
       "#T_f6ddb_row0_col3, #T_f6ddb_row8_col6, #T_f6ddb_row9_col10 {\n",
       "  background-color: #edf8b2;\n",
       "  color: #000000;\n",
       "}\n",
       "#T_f6ddb_row0_col4, #T_f6ddb_row1_col8, #T_f6ddb_row1_col9, #T_f6ddb_row6_col8, #T_f6ddb_row7_col2, #T_f6ddb_row7_col5, #T_f6ddb_row8_col9, #T_f6ddb_row10_col5, #T_f6ddb_row11_col3 {\n",
       "  background-color: #f6fbc5;\n",
       "  color: #000000;\n",
       "}\n",
       "#T_f6ddb_row0_col5 {\n",
       "  background-color: #feffd6;\n",
       "  color: #000000;\n",
       "}\n",
       "#T_f6ddb_row0_col6, #T_f6ddb_row6_col10, #T_f6ddb_row11_col8 {\n",
       "  background-color: #fafdce;\n",
       "  color: #000000;\n",
       "}\n",
       "#T_f6ddb_row0_col7, #T_f6ddb_row3_col0, #T_f6ddb_row7_col3 {\n",
       "  background-color: #e1f3b2;\n",
       "  color: #000000;\n",
       "}\n",
       "#T_f6ddb_row0_col9, #T_f6ddb_row9_col5, #T_f6ddb_row9_col6 {\n",
       "  background-color: #f3fabd;\n",
       "  color: #000000;\n",
       "}\n",
       "#T_f6ddb_row0_col11, #T_f6ddb_row9_col3, #T_f6ddb_row10_col0, #T_f6ddb_row11_col5 {\n",
       "  background-color: #ecf7b1;\n",
       "  color: #000000;\n",
       "}\n",
       "#T_f6ddb_row1_col0 {\n",
       "  background-color: #55bec1;\n",
       "  color: #000000;\n",
       "}\n",
       "#T_f6ddb_row1_col2 {\n",
       "  background-color: #f0f9b8;\n",
       "  color: #000000;\n",
       "}\n",
       "#T_f6ddb_row1_col3, #T_f6ddb_row3_col5, #T_f6ddb_row5_col3, #T_f6ddb_row8_col4, #T_f6ddb_row10_col3, #T_f6ddb_row10_col9 {\n",
       "  background-color: #eff9b6;\n",
       "  color: #000000;\n",
       "}\n",
       "#T_f6ddb_row1_col4 {\n",
       "  background-color: #f4fbc1;\n",
       "  color: #000000;\n",
       "}\n",
       "#T_f6ddb_row1_col5, #T_f6ddb_row1_col11, #T_f6ddb_row2_col4, #T_f6ddb_row2_col6, #T_f6ddb_row2_col8, #T_f6ddb_row2_col10, #T_f6ddb_row4_col3, #T_f6ddb_row4_col5, #T_f6ddb_row6_col2, #T_f6ddb_row7_col9, #T_f6ddb_row11_col0, #T_f6ddb_row11_col1, #T_f6ddb_row11_col7 {\n",
       "  background-color: #ffffd9;\n",
       "  color: #000000;\n",
       "}\n",
       "#T_f6ddb_row1_col6, #T_f6ddb_row2_col7, #T_f6ddb_row3_col4, #T_f6ddb_row6_col9 {\n",
       "  background-color: #fcfed3;\n",
       "  color: #000000;\n",
       "}\n",
       "#T_f6ddb_row1_col7 {\n",
       "  background-color: #dbf1b2;\n",
       "  color: #000000;\n",
       "}\n",
       "#T_f6ddb_row1_col10 {\n",
       "  background-color: #feffd8;\n",
       "  color: #000000;\n",
       "}\n",
       "#T_f6ddb_row2_col0, #T_f6ddb_row4_col10, #T_f6ddb_row11_col9 {\n",
       "  background-color: #f4fbc0;\n",
       "  color: #000000;\n",
       "}\n",
       "#T_f6ddb_row2_col1 {\n",
       "  background-color: #ceecb3;\n",
       "  color: #000000;\n",
       "}\n",
       "#T_f6ddb_row2_col3 {\n",
       "  background-color: #f0f9b7;\n",
       "  color: #000000;\n",
       "}\n",
       "#T_f6ddb_row2_col5 {\n",
       "  background-color: #f8fcc9;\n",
       "  color: #000000;\n",
       "}\n",
       "#T_f6ddb_row2_col9 {\n",
       "  background-color: #fbfdd0;\n",
       "  color: #000000;\n",
       "}\n",
       "#T_f6ddb_row2_col11 {\n",
       "  background-color: #a0dab8;\n",
       "  color: #000000;\n",
       "}\n",
       "#T_f6ddb_row3_col1, #T_f6ddb_row10_col11 {\n",
       "  background-color: #c0e6b5;\n",
       "  color: #000000;\n",
       "}\n",
       "#T_f6ddb_row3_col2 {\n",
       "  background-color: #e9f7b1;\n",
       "  color: #000000;\n",
       "}\n",
       "#T_f6ddb_row3_col6, #T_f6ddb_row5_col0, #T_f6ddb_row5_col7, #T_f6ddb_row8_col2 {\n",
       "  background-color: #f7fcc6;\n",
       "  color: #000000;\n",
       "}\n",
       "#T_f6ddb_row3_col7, #T_f6ddb_row6_col1 {\n",
       "  background-color: #e3f4b2;\n",
       "  color: #000000;\n",
       "}\n",
       "#T_f6ddb_row3_col8, #T_f6ddb_row8_col5 {\n",
       "  background-color: #f1fabb;\n",
       "  color: #000000;\n",
       "}\n",
       "#T_f6ddb_row3_col9, #T_f6ddb_row9_col2 {\n",
       "  background-color: #f1faba;\n",
       "  color: #000000;\n",
       "}\n",
       "#T_f6ddb_row3_col10, #T_f6ddb_row4_col0, #T_f6ddb_row5_col2, #T_f6ddb_row10_col6, #T_f6ddb_row11_col10 {\n",
       "  background-color: #f2fabc;\n",
       "  color: #000000;\n",
       "}\n",
       "#T_f6ddb_row3_col11 {\n",
       "  background-color: #cfecb3;\n",
       "  color: #000000;\n",
       "}\n",
       "#T_f6ddb_row4_col1, #T_f6ddb_row8_col11 {\n",
       "  background-color: #d0edb3;\n",
       "  color: #000000;\n",
       "}\n",
       "#T_f6ddb_row4_col2 {\n",
       "  background-color: #fdfed4;\n",
       "  color: #000000;\n",
       "}\n",
       "#T_f6ddb_row4_col6 {\n",
       "  background-color: #1e86bb;\n",
       "  color: #f1f1f1;\n",
       "}\n",
       "#T_f6ddb_row4_col7, #T_f6ddb_row5_col4, #T_f6ddb_row6_col3, #T_f6ddb_row9_col7 {\n",
       "  background-color: #fcfed1;\n",
       "  color: #000000;\n",
       "}\n",
       "#T_f6ddb_row4_col8, #T_f6ddb_row5_col8, #T_f6ddb_row9_col8 {\n",
       "  background-color: #f5fbc2;\n",
       "  color: #000000;\n",
       "}\n",
       "#T_f6ddb_row4_col11 {\n",
       "  background-color: #95d5b9;\n",
       "  color: #000000;\n",
       "}\n",
       "#T_f6ddb_row5_col1 {\n",
       "  background-color: #dff2b2;\n",
       "  color: #000000;\n",
       "}\n",
       "#T_f6ddb_row5_col6 {\n",
       "  background-color: #a2dbb8;\n",
       "  color: #000000;\n",
       "}\n",
       "#T_f6ddb_row5_col9, #T_f6ddb_row7_col4, #T_f6ddb_row10_col2, #T_f6ddb_row10_col7 {\n",
       "  background-color: #f7fcc7;\n",
       "  color: #000000;\n",
       "}\n",
       "#T_f6ddb_row5_col10, #T_f6ddb_row6_col0 {\n",
       "  background-color: #f8fcca;\n",
       "  color: #000000;\n",
       "}\n",
       "#T_f6ddb_row5_col11 {\n",
       "  background-color: #b4e2b6;\n",
       "  color: #000000;\n",
       "}\n",
       "#T_f6ddb_row6_col4 {\n",
       "  background-color: #1e88bc;\n",
       "  color: #f1f1f1;\n",
       "}\n",
       "#T_f6ddb_row6_col5 {\n",
       "  background-color: #b2e1b6;\n",
       "  color: #000000;\n",
       "}\n",
       "#T_f6ddb_row6_col7, #T_f6ddb_row10_col4 {\n",
       "  background-color: #eff9b5;\n",
       "  color: #000000;\n",
       "}\n",
       "#T_f6ddb_row6_col11 {\n",
       "  background-color: #7ecdbb;\n",
       "  color: #000000;\n",
       "}\n",
       "#T_f6ddb_row7_col0 {\n",
       "  background-color: #d3eeb3;\n",
       "  color: #000000;\n",
       "}\n",
       "#T_f6ddb_row7_col1 {\n",
       "  background-color: #99d7b8;\n",
       "  color: #000000;\n",
       "}\n",
       "#T_f6ddb_row7_col6 {\n",
       "  background-color: #e5f5b2;\n",
       "  color: #000000;\n",
       "}\n",
       "#T_f6ddb_row7_col10 {\n",
       "  background-color: #f9fdcb;\n",
       "  color: #000000;\n",
       "}\n",
       "#T_f6ddb_row7_col11 {\n",
       "  background-color: #ddf2b2;\n",
       "  color: #000000;\n",
       "}\n",
       "#T_f6ddb_row8_col0 {\n",
       "  background-color: #eaf7b1;\n",
       "  color: #000000;\n",
       "}\n",
       "#T_f6ddb_row8_col1 {\n",
       "  background-color: #c9eab4;\n",
       "  color: #000000;\n",
       "}\n",
       "#T_f6ddb_row8_col3, #T_f6ddb_row9_col4 {\n",
       "  background-color: #eef8b3;\n",
       "  color: #000000;\n",
       "}\n",
       "#T_f6ddb_row8_col7 {\n",
       "  background-color: #f3fabf;\n",
       "  color: #000000;\n",
       "}\n",
       "#T_f6ddb_row8_col10, #T_f6ddb_row10_col8 {\n",
       "  background-color: #2fa4c2;\n",
       "  color: #f1f1f1;\n",
       "}\n",
       "#T_f6ddb_row9_col0 {\n",
       "  background-color: #e2f4b2;\n",
       "  color: #000000;\n",
       "}\n",
       "#T_f6ddb_row9_col1 {\n",
       "  background-color: #c6e9b4;\n",
       "  color: #000000;\n",
       "}\n",
       "#T_f6ddb_row9_col11 {\n",
       "  background-color: #bde5b5;\n",
       "  color: #000000;\n",
       "}\n",
       "#T_f6ddb_row10_col1 {\n",
       "  background-color: #d9f0b3;\n",
       "  color: #000000;\n",
       "}\n",
       "#T_f6ddb_row11_col2 {\n",
       "  background-color: #d4eeb3;\n",
       "  color: #000000;\n",
       "}\n",
       "#T_f6ddb_row11_col4 {\n",
       "  background-color: #d1edb3;\n",
       "  color: #000000;\n",
       "}\n",
       "#T_f6ddb_row11_col6 {\n",
       "  background-color: #b9e4b5;\n",
       "  color: #000000;\n",
       "}\n",
       "</style>\n",
       "<table id=\"T_f6ddb_\">\n",
       "  <thead>\n",
       "    <tr>\n",
       "      <th class=\"blank level0\" >&nbsp;</th>\n",
       "      <th class=\"col_heading level0 col0\" >Gender</th>\n",
       "      <th class=\"col_heading level0 col1\" >Married</th>\n",
       "      <th class=\"col_heading level0 col2\" >Education</th>\n",
       "      <th class=\"col_heading level0 col3\" >Self_Employed</th>\n",
       "      <th class=\"col_heading level0 col4\" >Applicant_Income</th>\n",
       "      <th class=\"col_heading level0 col5\" >Co_Applicant_Income</th>\n",
       "      <th class=\"col_heading level0 col6\" >Loan_Amount</th>\n",
       "      <th class=\"col_heading level0 col7\" >Loan_Amount_Term</th>\n",
       "      <th class=\"col_heading level0 col8\" >Credit_History</th>\n",
       "      <th class=\"col_heading level0 col9\" >Property_Area</th>\n",
       "      <th class=\"col_heading level0 col10\" >Loan_Status</th>\n",
       "      <th class=\"col_heading level0 col11\" >Dependents</th>\n",
       "    </tr>\n",
       "  </thead>\n",
       "  <tbody>\n",
       "    <tr>\n",
       "      <th id=\"T_f6ddb_level0_row0\" class=\"row_heading level0 row0\" >Gender</th>\n",
       "      <td id=\"T_f6ddb_row0_col0\" class=\"data row0 col0\" >1.000000</td>\n",
       "      <td id=\"T_f6ddb_row0_col1\" class=\"data row0 col1\" >0.364982</td>\n",
       "      <td id=\"T_f6ddb_row0_col2\" class=\"data row0 col2\" >-0.081335</td>\n",
       "      <td id=\"T_f6ddb_row0_col3\" class=\"data row0 col3\" >0.022018</td>\n",
       "      <td id=\"T_f6ddb_row0_col4\" class=\"data row0 col4\" >-0.066503</td>\n",
       "      <td id=\"T_f6ddb_row0_col5\" class=\"data row0 col5\" >-0.103875</td>\n",
       "      <td id=\"T_f6ddb_row0_col6\" class=\"data row0 col6\" >-0.116030</td>\n",
       "      <td id=\"T_f6ddb_row0_col7\" class=\"data row0 col7\" >0.076894</td>\n",
       "      <td id=\"T_f6ddb_row0_col8\" class=\"data row0 col8\" >-0.013971</td>\n",
       "      <td id=\"T_f6ddb_row0_col9\" class=\"data row0 col9\" >0.016122</td>\n",
       "      <td id=\"T_f6ddb_row0_col10\" class=\"data row0 col10\" >-0.018714</td>\n",
       "      <td id=\"T_f6ddb_row0_col11\" class=\"data row0 col11\" >-0.173074</td>\n",
       "    </tr>\n",
       "    <tr>\n",
       "      <th id=\"T_f6ddb_level0_row1\" class=\"row_heading level0 row1\" >Married</th>\n",
       "      <td id=\"T_f6ddb_row1_col0\" class=\"data row1 col0\" >0.364982</td>\n",
       "      <td id=\"T_f6ddb_row1_col1\" class=\"data row1 col1\" >1.000000</td>\n",
       "      <td id=\"T_f6ddb_row1_col2\" class=\"data row1 col2\" >-0.039935</td>\n",
       "      <td id=\"T_f6ddb_row1_col3\" class=\"data row1 col3\" >0.008547</td>\n",
       "      <td id=\"T_f6ddb_row1_col4\" class=\"data row1 col4\" >-0.052821</td>\n",
       "      <td id=\"T_f6ddb_row1_col5\" class=\"data row1 col5\" >-0.113435</td>\n",
       "      <td id=\"T_f6ddb_row1_col6\" class=\"data row1 col6\" >-0.136809</td>\n",
       "      <td id=\"T_f6ddb_row1_col7\" class=\"data row1 col7\" >0.096254</td>\n",
       "      <td id=\"T_f6ddb_row1_col8\" class=\"data row1 col8\" >-0.019537</td>\n",
       "      <td id=\"T_f6ddb_row1_col9\" class=\"data row1 col9\" >-0.008369</td>\n",
       "      <td id=\"T_f6ddb_row1_col10\" class=\"data row1 col10\" >-0.087628</td>\n",
       "      <td id=\"T_f6ddb_row1_col11\" class=\"data row1 col11\" >-0.349428</td>\n",
       "    </tr>\n",
       "    <tr>\n",
       "      <th id=\"T_f6ddb_level0_row2\" class=\"row_heading level0 row2\" >Education</th>\n",
       "      <td id=\"T_f6ddb_row2_col0\" class=\"data row2 col0\" >-0.081335</td>\n",
       "      <td id=\"T_f6ddb_row2_col1\" class=\"data row2 col1\" >-0.039935</td>\n",
       "      <td id=\"T_f6ddb_row2_col2\" class=\"data row2 col2\" >1.000000</td>\n",
       "      <td id=\"T_f6ddb_row2_col3\" class=\"data row2 col3\" >0.001055</td>\n",
       "      <td id=\"T_f6ddb_row2_col4\" class=\"data row2 col4\" >-0.141019</td>\n",
       "      <td id=\"T_f6ddb_row2_col5\" class=\"data row2 col5\" >-0.054796</td>\n",
       "      <td id=\"T_f6ddb_row2_col6\" class=\"data row2 col6\" >-0.160076</td>\n",
       "      <td id=\"T_f6ddb_row2_col7\" class=\"data row2 col7\" >-0.084283</td>\n",
       "      <td id=\"T_f6ddb_row2_col8\" class=\"data row2 col8\" >-0.088795</td>\n",
       "      <td id=\"T_f6ddb_row2_col9\" class=\"data row2 col9\" >-0.045997</td>\n",
       "      <td id=\"T_f6ddb_row2_col10\" class=\"data row2 col10\" >-0.093655</td>\n",
       "      <td id=\"T_f6ddb_row2_col11\" class=\"data row2 col11\" >0.082276</td>\n",
       "    </tr>\n",
       "    <tr>\n",
       "      <th id=\"T_f6ddb_level0_row3\" class=\"row_heading level0 row3\" >Self_Employed</th>\n",
       "      <td id=\"T_f6ddb_row3_col0\" class=\"data row3 col0\" >0.022018</td>\n",
       "      <td id=\"T_f6ddb_row3_col1\" class=\"data row3 col1\" >0.008547</td>\n",
       "      <td id=\"T_f6ddb_row3_col2\" class=\"data row3 col2\" >0.001055</td>\n",
       "      <td id=\"T_f6ddb_row3_col3\" class=\"data row3 col3\" >1.000000</td>\n",
       "      <td id=\"T_f6ddb_row3_col4\" class=\"data row3 col4\" >-0.117022</td>\n",
       "      <td id=\"T_f6ddb_row3_col5\" class=\"data row3 col5\" >0.009014</td>\n",
       "      <td id=\"T_f6ddb_row3_col6\" class=\"data row3 col6\" >-0.090611</td>\n",
       "      <td id=\"T_f6ddb_row3_col7\" class=\"data row3 col7\" >0.068104</td>\n",
       "      <td id=\"T_f6ddb_row3_col8\" class=\"data row3 col8\" >0.016363</td>\n",
       "      <td id=\"T_f6ddb_row3_col9\" class=\"data row3 col9\" >0.030178</td>\n",
       "      <td id=\"T_f6ddb_row3_col10\" class=\"data row3 col10\" >0.007802</td>\n",
       "      <td id=\"T_f6ddb_row3_col11\" class=\"data row3 col11\" >-0.044616</td>\n",
       "    </tr>\n",
       "    <tr>\n",
       "      <th id=\"T_f6ddb_level0_row4\" class=\"row_heading level0 row4\" >Applicant_Income</th>\n",
       "      <td id=\"T_f6ddb_row4_col0\" class=\"data row4 col0\" >-0.066503</td>\n",
       "      <td id=\"T_f6ddb_row4_col1\" class=\"data row4 col1\" >-0.052821</td>\n",
       "      <td id=\"T_f6ddb_row4_col2\" class=\"data row4 col2\" >-0.141019</td>\n",
       "      <td id=\"T_f6ddb_row4_col3\" class=\"data row4 col3\" >-0.117022</td>\n",
       "      <td id=\"T_f6ddb_row4_col4\" class=\"data row4 col4\" >1.000000</td>\n",
       "      <td id=\"T_f6ddb_row4_col5\" class=\"data row4 col5\" >-0.111058</td>\n",
       "      <td id=\"T_f6ddb_row4_col6\" class=\"data row4 col6\" >0.594581</td>\n",
       "      <td id=\"T_f6ddb_row4_col7\" class=\"data row4 col7\" >-0.077772</td>\n",
       "      <td id=\"T_f6ddb_row4_col8\" class=\"data row4 col8\" >-0.011946</td>\n",
       "      <td id=\"T_f6ddb_row4_col9\" class=\"data row4 col9\" >-0.005223</td>\n",
       "      <td id=\"T_f6ddb_row4_col10\" class=\"data row4 col10\" >-0.008066</td>\n",
       "      <td id=\"T_f6ddb_row4_col11\" class=\"data row4 col11\" >0.104796</td>\n",
       "    </tr>\n",
       "    <tr>\n",
       "      <th id=\"T_f6ddb_level0_row5\" class=\"row_heading level0 row5\" >Co_Applicant_Income</th>\n",
       "      <td id=\"T_f6ddb_row5_col0\" class=\"data row5 col0\" >-0.103875</td>\n",
       "      <td id=\"T_f6ddb_row5_col1\" class=\"data row5 col1\" >-0.113435</td>\n",
       "      <td id=\"T_f6ddb_row5_col2\" class=\"data row5 col2\" >-0.054796</td>\n",
       "      <td id=\"T_f6ddb_row5_col3\" class=\"data row5 col3\" >0.009014</td>\n",
       "      <td id=\"T_f6ddb_row5_col4\" class=\"data row5 col4\" >-0.111058</td>\n",
       "      <td id=\"T_f6ddb_row5_col5\" class=\"data row5 col5\" >1.000000</td>\n",
       "      <td id=\"T_f6ddb_row5_col6\" class=\"data row5 col6\" >0.205203</td>\n",
       "      <td id=\"T_f6ddb_row5_col7\" class=\"data row5 col7\" >-0.041713</td>\n",
       "      <td id=\"T_f6ddb_row5_col8\" class=\"data row5 col8\" >-0.008682</td>\n",
       "      <td id=\"T_f6ddb_row5_col9\" class=\"data row5 col9\" >-0.016392</td>\n",
       "      <td id=\"T_f6ddb_row5_col10\" class=\"data row5 col10\" >-0.040929</td>\n",
       "      <td id=\"T_f6ddb_row5_col11\" class=\"data row5 col11\" >0.033763</td>\n",
       "    </tr>\n",
       "    <tr>\n",
       "      <th id=\"T_f6ddb_level0_row6\" class=\"row_heading level0 row6\" >Loan_Amount</th>\n",
       "      <td id=\"T_f6ddb_row6_col0\" class=\"data row6 col0\" >-0.116030</td>\n",
       "      <td id=\"T_f6ddb_row6_col1\" class=\"data row6 col1\" >-0.136809</td>\n",
       "      <td id=\"T_f6ddb_row6_col2\" class=\"data row6 col2\" >-0.160076</td>\n",
       "      <td id=\"T_f6ddb_row6_col3\" class=\"data row6 col3\" >-0.090611</td>\n",
       "      <td id=\"T_f6ddb_row6_col4\" class=\"data row6 col4\" >0.594581</td>\n",
       "      <td id=\"T_f6ddb_row6_col5\" class=\"data row6 col5\" >0.205203</td>\n",
       "      <td id=\"T_f6ddb_row6_col6\" class=\"data row6 col6\" >1.000000</td>\n",
       "      <td id=\"T_f6ddb_row6_col7\" class=\"data row6 col7\" >0.019508</td>\n",
       "      <td id=\"T_f6ddb_row6_col8\" class=\"data row6 col8\" >-0.017298</td>\n",
       "      <td id=\"T_f6ddb_row6_col9\" class=\"data row6 col9\" >-0.056465</td>\n",
       "      <td id=\"T_f6ddb_row6_col10\" class=\"data row6 col10\" >-0.051823</td>\n",
       "      <td id=\"T_f6ddb_row6_col11\" class=\"data row6 col11\" >0.158441</td>\n",
       "    </tr>\n",
       "    <tr>\n",
       "      <th id=\"T_f6ddb_level0_row7\" class=\"row_heading level0 row7\" >Loan_Amount_Term</th>\n",
       "      <td id=\"T_f6ddb_row7_col0\" class=\"data row7 col0\" >0.076894</td>\n",
       "      <td id=\"T_f6ddb_row7_col1\" class=\"data row7 col1\" >0.096254</td>\n",
       "      <td id=\"T_f6ddb_row7_col2\" class=\"data row7 col2\" >-0.084283</td>\n",
       "      <td id=\"T_f6ddb_row7_col3\" class=\"data row7 col3\" >0.068104</td>\n",
       "      <td id=\"T_f6ddb_row7_col4\" class=\"data row7 col4\" >-0.077772</td>\n",
       "      <td id=\"T_f6ddb_row7_col5\" class=\"data row7 col5\" >-0.041713</td>\n",
       "      <td id=\"T_f6ddb_row7_col6\" class=\"data row7 col6\" >0.019508</td>\n",
       "      <td id=\"T_f6ddb_row7_col7\" class=\"data row7 col7\" >1.000000</td>\n",
       "      <td id=\"T_f6ddb_row7_col8\" class=\"data row7 col8\" >-0.012732</td>\n",
       "      <td id=\"T_f6ddb_row7_col9\" class=\"data row7 col9\" >-0.078242</td>\n",
       "      <td id=\"T_f6ddb_row7_col10\" class=\"data row7 col10\" >-0.043328</td>\n",
       "      <td id=\"T_f6ddb_row7_col11\" class=\"data row7 col11\" >-0.107943</td>\n",
       "    </tr>\n",
       "    <tr>\n",
       "      <th id=\"T_f6ddb_level0_row8\" class=\"row_heading level0 row8\" >Credit_History</th>\n",
       "      <td id=\"T_f6ddb_row8_col0\" class=\"data row8 col0\" >-0.013971</td>\n",
       "      <td id=\"T_f6ddb_row8_col1\" class=\"data row8 col1\" >-0.019537</td>\n",
       "      <td id=\"T_f6ddb_row8_col2\" class=\"data row8 col2\" >-0.088795</td>\n",
       "      <td id=\"T_f6ddb_row8_col3\" class=\"data row8 col3\" >0.016363</td>\n",
       "      <td id=\"T_f6ddb_row8_col4\" class=\"data row8 col4\" >-0.011946</td>\n",
       "      <td id=\"T_f6ddb_row8_col5\" class=\"data row8 col5\" >-0.008682</td>\n",
       "      <td id=\"T_f6ddb_row8_col6\" class=\"data row8 col6\" >-0.017298</td>\n",
       "      <td id=\"T_f6ddb_row8_col7\" class=\"data row8 col7\" >-0.012732</td>\n",
       "      <td id=\"T_f6ddb_row8_col8\" class=\"data row8 col8\" >1.000000</td>\n",
       "      <td id=\"T_f6ddb_row8_col9\" class=\"data row8 col9\" >-0.009498</td>\n",
       "      <td id=\"T_f6ddb_row8_col10\" class=\"data row8 col10\" >0.520274</td>\n",
       "      <td id=\"T_f6ddb_row8_col11\" class=\"data row8 col11\" >-0.049059</td>\n",
       "    </tr>\n",
       "    <tr>\n",
       "      <th id=\"T_f6ddb_level0_row9\" class=\"row_heading level0 row9\" >Property_Area</th>\n",
       "      <td id=\"T_f6ddb_row9_col0\" class=\"data row9 col0\" >0.016122</td>\n",
       "      <td id=\"T_f6ddb_row9_col1\" class=\"data row9 col1\" >-0.008369</td>\n",
       "      <td id=\"T_f6ddb_row9_col2\" class=\"data row9 col2\" >-0.045997</td>\n",
       "      <td id=\"T_f6ddb_row9_col3\" class=\"data row9 col3\" >0.030178</td>\n",
       "      <td id=\"T_f6ddb_row9_col4\" class=\"data row9 col4\" >-0.005223</td>\n",
       "      <td id=\"T_f6ddb_row9_col5\" class=\"data row9 col5\" >-0.016392</td>\n",
       "      <td id=\"T_f6ddb_row9_col6\" class=\"data row9 col6\" >-0.056465</td>\n",
       "      <td id=\"T_f6ddb_row9_col7\" class=\"data row9 col7\" >-0.078242</td>\n",
       "      <td id=\"T_f6ddb_row9_col8\" class=\"data row9 col8\" >-0.009498</td>\n",
       "      <td id=\"T_f6ddb_row9_col9\" class=\"data row9 col9\" >1.000000</td>\n",
       "      <td id=\"T_f6ddb_row9_col10\" class=\"data row9 col10\" >0.041226</td>\n",
       "      <td id=\"T_f6ddb_row9_col11\" class=\"data row9 col11\" >0.009317</td>\n",
       "    </tr>\n",
       "    <tr>\n",
       "      <th id=\"T_f6ddb_level0_row10\" class=\"row_heading level0 row10\" >Loan_Status</th>\n",
       "      <td id=\"T_f6ddb_row10_col0\" class=\"data row10 col0\" >-0.018714</td>\n",
       "      <td id=\"T_f6ddb_row10_col1\" class=\"data row10 col1\" >-0.087628</td>\n",
       "      <td id=\"T_f6ddb_row10_col2\" class=\"data row10 col2\" >-0.093655</td>\n",
       "      <td id=\"T_f6ddb_row10_col3\" class=\"data row10 col3\" >0.007802</td>\n",
       "      <td id=\"T_f6ddb_row10_col4\" class=\"data row10 col4\" >-0.008066</td>\n",
       "      <td id=\"T_f6ddb_row10_col5\" class=\"data row10 col5\" >-0.040929</td>\n",
       "      <td id=\"T_f6ddb_row10_col6\" class=\"data row10 col6\" >-0.051823</td>\n",
       "      <td id=\"T_f6ddb_row10_col7\" class=\"data row10 col7\" >-0.043328</td>\n",
       "      <td id=\"T_f6ddb_row10_col8\" class=\"data row10 col8\" >0.520274</td>\n",
       "      <td id=\"T_f6ddb_row10_col9\" class=\"data row10 col9\" >0.041226</td>\n",
       "      <td id=\"T_f6ddb_row10_col10\" class=\"data row10 col10\" >1.000000</td>\n",
       "      <td id=\"T_f6ddb_row10_col11\" class=\"data row10 col11\" >0.007665</td>\n",
       "    </tr>\n",
       "    <tr>\n",
       "      <th id=\"T_f6ddb_level0_row11\" class=\"row_heading level0 row11\" >Dependents</th>\n",
       "      <td id=\"T_f6ddb_row11_col0\" class=\"data row11 col0\" >-0.173074</td>\n",
       "      <td id=\"T_f6ddb_row11_col1\" class=\"data row11 col1\" >-0.349428</td>\n",
       "      <td id=\"T_f6ddb_row11_col2\" class=\"data row11 col2\" >0.082276</td>\n",
       "      <td id=\"T_f6ddb_row11_col3\" class=\"data row11 col3\" >-0.044616</td>\n",
       "      <td id=\"T_f6ddb_row11_col4\" class=\"data row11 col4\" >0.104796</td>\n",
       "      <td id=\"T_f6ddb_row11_col5\" class=\"data row11 col5\" >0.033763</td>\n",
       "      <td id=\"T_f6ddb_row11_col6\" class=\"data row11 col6\" >0.158441</td>\n",
       "      <td id=\"T_f6ddb_row11_col7\" class=\"data row11 col7\" >-0.107943</td>\n",
       "      <td id=\"T_f6ddb_row11_col8\" class=\"data row11 col8\" >-0.049059</td>\n",
       "      <td id=\"T_f6ddb_row11_col9\" class=\"data row11 col9\" >0.009317</td>\n",
       "      <td id=\"T_f6ddb_row11_col10\" class=\"data row11 col10\" >0.007665</td>\n",
       "      <td id=\"T_f6ddb_row11_col11\" class=\"data row11 col11\" >1.000000</td>\n",
       "    </tr>\n",
       "  </tbody>\n",
       "</table>\n"
      ],
      "text/plain": [
       "<pandas.io.formats.style.Styler at 0x7f973bd59b20>"
      ]
     },
     "execution_count": 260,
     "metadata": {},
     "output_type": "execute_result"
    }
   ],
   "source": [
    "# correlation table \n",
    "\n",
    "c = train_df.corr()\n",
    "\n",
    "c.style.background_gradient(cmap='YlGnBu')"
   ]
  },
  {
   "cell_type": "markdown",
   "id": "f21b429e",
   "metadata": {},
   "source": [
    "# Machine Learning Models "
   ]
  },
  {
   "cell_type": "code",
   "execution_count": 261,
   "id": "e0db61f9",
   "metadata": {},
   "outputs": [],
   "source": [
    "train_df.to_csv('Desktop/numeric_data.csv')"
   ]
  },
  {
   "cell_type": "code",
   "execution_count": 348,
   "id": "cbb25ab1",
   "metadata": {},
   "outputs": [
    {
     "name": "stdout",
     "output_type": "stream",
     "text": [
      "Decision Tree using Gini Index\n",
      "Accuracy is  92.34016887816647\n"
     ]
    }
   ],
   "source": [
    "\n",
    "\n",
    "new_train_df = pd.read_csv('Desktop/numeric_data.csv')\n",
    "\n",
    "new_y = new_train_df.values[:, 11]\n",
    "\n",
    "new_X = new_train_df.values[:, 1:11]\n",
    "\n",
    "X_train, X_test, y_train, y_test = train_test_split(new_X, new_y, test_size=0.3, random_state=0)\n",
    "\n",
    "dt_clf_gini = DecisionTreeClassifier(criterion=\"gini\",\n",
    "                                     random_state=0,\n",
    "                                     max_depth=15,\n",
    "                                     min_samples_leaf=5)\n",
    "dt_clf_gini.fit(X_train, y_train)\n",
    "y_pred_gini = dt_clf_gini.predict(X_test)\n",
    "\n",
    "print(\"Decision Tree using Gini Index\\nAccuracy is \",\n",
    "      accuracy_score(y_test, y_pred_gini) * 100)"
   ]
  },
  {
   "cell_type": "code",
   "execution_count": null,
   "id": "5bfa24a4",
   "metadata": {},
   "outputs": [],
   "source": []
  },
  {
   "cell_type": "code",
   "execution_count": null,
   "id": "e7a01e0a",
   "metadata": {},
   "outputs": [],
   "source": []
  },
  {
   "cell_type": "code",
   "execution_count": null,
   "id": "9ae80f97",
   "metadata": {},
   "outputs": [],
   "source": []
  }
 ],
 "metadata": {
  "kernelspec": {
   "display_name": "Python 3 (ipykernel)",
   "language": "python",
   "name": "python3"
  },
  "language_info": {
   "codemirror_mode": {
    "name": "ipython",
    "version": 3
   },
   "file_extension": ".py",
   "mimetype": "text/x-python",
   "name": "python",
   "nbconvert_exporter": "python",
   "pygments_lexer": "ipython3",
   "version": "3.9.7"
  }
 },
 "nbformat": 4,
 "nbformat_minor": 5
}
